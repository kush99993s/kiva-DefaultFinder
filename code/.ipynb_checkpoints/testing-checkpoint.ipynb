{
 "cells": [
  {
   "cell_type": "code",
   "execution_count": 1,
   "metadata": {
    "collapsed": false
   },
   "outputs": [
    {
     "name": "stdout",
     "output_type": "stream",
     "text": [
      "data_cleaning.py   data_collection.py   EDA-1.ipynb  paid_default_file\r\n",
      "data_cleaning.pyc  data_collection.pyc  EDA.ipynb    testing.ipynb\r\n"
     ]
    }
   ],
   "source": [
    "ls"
   ]
  },
  {
   "cell_type": "code",
   "execution_count": 2,
   "metadata": {
    "collapsed": false
   },
   "outputs": [],
   "source": [
    "from data_collection import DataCollection"
   ]
  },
  {
   "cell_type": "code",
   "execution_count": 3,
   "metadata": {
    "collapsed": false
   },
   "outputs": [],
   "source": [
    "from data_cleaning import Cleaning"
   ]
  },
  {
   "cell_type": "code",
   "execution_count": 4,
   "metadata": {
    "collapsed": false
   },
   "outputs": [],
   "source": [
    "clean = Cleaning(2)\n",
    "clean.change_all_variable()"
   ]
  },
  {
   "cell_type": "code",
   "execution_count": 5,
   "metadata": {
    "collapsed": false
   },
   "outputs": [
    {
     "name": "stdout",
     "output_type": "stream",
     "text": [
      "                activity  basket_amount country_code  \\\n",
      "0           Butcher Shop             -2           UG   \n",
      "1  Food Production/Sales             -2           UG   \n",
      "2           Animal Sales             -2           UG   \n",
      "3         Clothing Sales             -2           UG   \n",
      "4  Food Production/Sales             -2           UG   \n",
      "\n",
      "                                         description  description_lang  \\\n",
      "0  <i>The following description was written by Mo...                 1   \n",
      "1  <i>The following description was written by Mo...                 1   \n",
      "2  <i>The following description was written by Mo...                 1   \n",
      "3  Eunice received 100 dollar grant from Village ...                 1   \n",
      "4  <i>\\r\\nThe following description was written b...                 1   \n",
      "\n",
      "   entries  funded_amount           funded_date geo_level   lat  \\\n",
      "0       17            500  2005-03-31T06:27:55Z      town  0.75   \n",
      "1       16            500  2005-03-31T06:27:55Z      town  0.75   \n",
      "2       15            500  2005-03-31T06:27:55Z      town  0.75   \n",
      "3       12            300  2005-03-31T06:27:55Z      town  0.75   \n",
      "4       14            500  2005-03-31T06:27:55Z      town  0.75   \n",
      "\n",
      "        ...         repayment_term       sector  status  theme    town  \\\n",
      "0       ...                      6         Food    paid   None  Tororo   \n",
      "1       ...                      6         Food    paid   None  Tororo   \n",
      "2       ...                      6  Agriculture    paid   None  Tororo   \n",
      "3       ...                      6     Clothing    paid   None  Tororo   \n",
      "4       ...                      6         Food    paid   None  Tororo   \n",
      "\n",
      "  num_male  num_female male_ratio number_of_picture ratio_of_picture  \n",
      "0        1           0          1                 1                1  \n",
      "1        1           0          1                 1                1  \n",
      "2        1           0          1                 1                1  \n",
      "3        0           1          0                 1                1  \n",
      "4        0           1          0                 1                1  \n",
      "\n",
      "[5 rows x 26 columns]\n"
     ]
    }
   ],
   "source": [
    "print clean.df.head()"
   ]
  },
  {
   "cell_type": "code",
   "execution_count": null,
   "metadata": {
    "collapsed": true
   },
   "outputs": [],
   "source": []
  }
 ],
 "metadata": {
  "kernelspec": {
   "display_name": "Python 2",
   "language": "python",
   "name": "python2"
  },
  "language_info": {
   "codemirror_mode": {
    "name": "ipython",
    "version": 2
   },
   "file_extension": ".py",
   "mimetype": "text/x-python",
   "name": "python",
   "nbconvert_exporter": "python",
   "pygments_lexer": "ipython2",
   "version": "2.7.10"
  }
 },
 "nbformat": 4,
 "nbformat_minor": 0
}
